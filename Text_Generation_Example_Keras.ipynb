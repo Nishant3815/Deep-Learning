{
  "nbformat": 4,
  "nbformat_minor": 0,
  "metadata": {
    "colab": {
      "name": "Text_Generation_Exampl_Keras",
      "version": "0.3.2",
      "views": {},
      "default_view": {},
      "provenance": []
    },
    "kernelspec": {
      "name": "python3",
      "display_name": "Python 3"
    }
  },
  "cells": [
    {
      "metadata": {
        "id": "nUXYFAdc99qB",
        "colab_type": "code",
        "colab": {
          "autoexec": {
            "startup": false,
            "wait_interval": 0
          },
          "output_extras": [
            {
              "item_id": 1
            }
          ],
          "base_uri": "https://localhost:8080/",
          "height": 34
        },
        "outputId": "931d665b-3bcc-4dc8-f6e7-c72c3ccdaa13",
        "executionInfo": {
          "status": "ok",
          "timestamp": 1522615881832,
          "user_tz": -330,
          "elapsed": 3527,
          "user": {
            "displayName": "Nishant Raj",
            "photoUrl": "//lh4.googleusercontent.com/-CoEa43atQ1I/AAAAAAAAAAI/AAAAAAAAEMg/72BP1zTVtf0/s50-c-k-no/photo.jpg",
            "userId": "113149130457585772294"
          }
        }
      },
      "cell_type": "code",
      "source": [
        "from __future__ import print_function\n",
        "from keras.callbacks import LambdaCallback\n",
        "from keras.models import Sequential\n",
        "from keras.layers import Dense,Activation\n",
        "from keras.layers import LSTM\n",
        "from keras.optimizers import RMSprop\n",
        "from keras.utils.data_utils import get_file\n",
        "import numpy as np\n",
        "import random\n",
        "import sys\n",
        "import io"
      ],
      "execution_count": 1,
      "outputs": [
        {
          "output_type": "stream",
          "text": [
            "Using TensorFlow backend.\n"
          ],
          "name": "stderr"
        }
      ]
    },
    {
      "metadata": {
        "id": "ac-kynEx-mcB",
        "colab_type": "code",
        "colab": {
          "autoexec": {
            "startup": false,
            "wait_interval": 0
          }
        }
      },
      "cell_type": "code",
      "source": [
        "path = get_file('nietzsche.txt',origin='https://s3.amazonaws.com/text-datasets/nietzsche.txt')"
      ],
      "execution_count": 0,
      "outputs": []
    },
    {
      "metadata": {
        "id": "GjVEtVvD-r5J",
        "colab_type": "code",
        "colab": {
          "autoexec": {
            "startup": false,
            "wait_interval": 0
          }
        }
      },
      "cell_type": "code",
      "source": [
        "with io.open(path,encoding='utf-8') as f:\n",
        "  text = f.read().lower()"
      ],
      "execution_count": 0,
      "outputs": []
    },
    {
      "metadata": {
        "id": "94R5g5dh-xaF",
        "colab_type": "code",
        "colab": {
          "autoexec": {
            "startup": false,
            "wait_interval": 0
          },
          "output_extras": [
            {
              "item_id": 1
            }
          ],
          "base_uri": "https://localhost:8080/",
          "height": 71
        },
        "outputId": "f90f0422-5495-4f98-a82b-f9b50e98d31b",
        "executionInfo": {
          "status": "ok",
          "timestamp": 1522615932230,
          "user_tz": -330,
          "elapsed": 1052,
          "user": {
            "displayName": "Nishant Raj",
            "photoUrl": "//lh4.googleusercontent.com/-CoEa43atQ1I/AAAAAAAAAAI/AAAAAAAAEMg/72BP1zTVtf0/s50-c-k-no/photo.jpg",
            "userId": "113149130457585772294"
          }
        }
      },
      "cell_type": "code",
      "source": [
        "chars = sorted(list(set(text)))\n",
        "print(chars)\n",
        "print(len(chars))"
      ],
      "execution_count": 4,
      "outputs": [
        {
          "output_type": "stream",
          "text": [
            "['\\n', ' ', '!', '\"', \"'\", '(', ')', ',', '-', '.', '0', '1', '2', '3', '4', '5', '6', '7', '8', '9', ':', ';', '=', '?', '[', ']', '_', 'a', 'b', 'c', 'd', 'e', 'f', 'g', 'h', 'i', 'j', 'k', 'l', 'm', 'n', 'o', 'p', 'q', 'r', 's', 't', 'u', 'v', 'w', 'x', 'y', 'z', 'ä', 'æ', 'é', 'ë']\n",
            "57\n"
          ],
          "name": "stdout"
        }
      ]
    },
    {
      "metadata": {
        "id": "JNY9Xc_G-1Bs",
        "colab_type": "code",
        "colab": {
          "autoexec": {
            "startup": false,
            "wait_interval": 0
          }
        }
      },
      "cell_type": "code",
      "source": [
        "char_indices = dict((c, i) for i, c in enumerate(chars))\n",
        "indices_char = dict((i,c) for i,c in enumerate(chars))  "
      ],
      "execution_count": 0,
      "outputs": []
    },
    {
      "metadata": {
        "id": "owXZhM7J-4za",
        "colab_type": "code",
        "colab": {
          "autoexec": {
            "startup": false,
            "wait_interval": 0
          },
          "output_extras": [
            {
              "item_id": 1
            }
          ],
          "base_uri": "https://localhost:8080/",
          "height": 34
        },
        "outputId": "e960e454-9a2d-46ff-aec9-d25a3a125282",
        "executionInfo": {
          "status": "ok",
          "timestamp": 1522615963887,
          "user_tz": -330,
          "elapsed": 883,
          "user": {
            "displayName": "Nishant Raj",
            "photoUrl": "//lh4.googleusercontent.com/-CoEa43atQ1I/AAAAAAAAAAI/AAAAAAAAEMg/72BP1zTVtf0/s50-c-k-no/photo.jpg",
            "userId": "113149130457585772294"
          }
        }
      },
      "cell_type": "code",
      "source": [
        "maxlen = 40\n",
        "step = 3\n",
        "sentences = []\n",
        "next_chars = []\n",
        "for i in range(0,len(text)-maxlen,step):\n",
        "    sentences.append(text[i: i + maxlen])\n",
        "    next_chars.append(text[i + maxlen])\n",
        "print('nb_sequences :',len(sentences))"
      ],
      "execution_count": 6,
      "outputs": [
        {
          "output_type": "stream",
          "text": [
            "nb_sequences : 200285\n"
          ],
          "name": "stdout"
        }
      ]
    },
    {
      "metadata": {
        "id": "zJ3EmstH-8zS",
        "colab_type": "code",
        "colab": {
          "autoexec": {
            "startup": false,
            "wait_interval": 0
          }
        }
      },
      "cell_type": "code",
      "source": [
        "x = np.zeros((len(sentences),maxlen,len(chars)),dtype=np.bool)\n",
        "y = np.zeros((len(sentences),len(chars)),dtype=np.bool)"
      ],
      "execution_count": 0,
      "outputs": []
    },
    {
      "metadata": {
        "id": "dpqSRDoq_Ain",
        "colab_type": "code",
        "colab": {
          "autoexec": {
            "startup": false,
            "wait_interval": 0
          }
        }
      },
      "cell_type": "code",
      "source": [
        "for i,sentence in enumerate(sentences):\n",
        "  for t,char in enumerate(sentence):\n",
        "    x[i,t,char_indices[char]] = 1\n",
        "  y[i,char_indices[next_chars[i]]] = 1"
      ],
      "execution_count": 0,
      "outputs": []
    },
    {
      "metadata": {
        "id": "an73Ulsy_Dzb",
        "colab_type": "code",
        "colab": {
          "autoexec": {
            "startup": false,
            "wait_interval": 0
          },
          "output_extras": [
            {
              "item_id": 1
            }
          ],
          "base_uri": "https://localhost:8080/",
          "height": 34
        },
        "outputId": "e7c66b55-1b42-4624-b71d-97b05f866e41",
        "executionInfo": {
          "status": "ok",
          "timestamp": 1522616009848,
          "user_tz": -330,
          "elapsed": 1364,
          "user": {
            "displayName": "Nishant Raj",
            "photoUrl": "//lh4.googleusercontent.com/-CoEa43atQ1I/AAAAAAAAAAI/AAAAAAAAEMg/72BP1zTVtf0/s50-c-k-no/photo.jpg",
            "userId": "113149130457585772294"
          }
        }
      },
      "cell_type": "code",
      "source": [
        "print('Building model...')\n",
        "model = Sequential()\n",
        "model.add(LSTM(128,input_shape=(maxlen,len(chars))))\n",
        "model.add(Dense(len(chars)))\n",
        "model.add(Activation('softmax'))"
      ],
      "execution_count": 9,
      "outputs": [
        {
          "output_type": "stream",
          "text": [
            "Building model...\n"
          ],
          "name": "stdout"
        }
      ]
    },
    {
      "metadata": {
        "id": "hy7oDySd_H51",
        "colab_type": "code",
        "colab": {
          "autoexec": {
            "startup": false,
            "wait_interval": 0
          }
        }
      },
      "cell_type": "code",
      "source": [
        "optimizer = RMSprop(lr=0.01)\n",
        "model.compile(loss='categorical_crossentropy', optimizer=optimizer)"
      ],
      "execution_count": 0,
      "outputs": []
    },
    {
      "metadata": {
        "id": "NuXLqXxg_LZL",
        "colab_type": "code",
        "colab": {
          "autoexec": {
            "startup": false,
            "wait_interval": 0
          }
        }
      },
      "cell_type": "code",
      "source": [
        "def sample(preds,temperature=1.0):\n",
        "  preds = np.asarray(preds).astype('float64')\n",
        "  preds = np.log(preds)/temperature\n",
        "  exp_preds = np.exp(preds)\n",
        "  preds = exp_preds / np.sum(exp_preds)\n",
        "  probas = np.random.multinomial(1, preds, 1)\n",
        "  return np.argmax(probas)"
      ],
      "execution_count": 0,
      "outputs": []
    },
    {
      "metadata": {
        "id": "qxO3f-B3_Pg6",
        "colab_type": "code",
        "colab": {
          "autoexec": {
            "startup": false,
            "wait_interval": 0
          },
          "output_extras": [
            {
              "item_id": 374
            },
            {
              "item_id": 378
            },
            {
              "item_id": 384
            },
            {
              "item_id": 389
            },
            {
              "item_id": 394
            },
            {
              "item_id": 466
            },
            {
              "item_id": 730
            },
            {
              "item_id": 731
            },
            {
              "item_id": 732
            },
            {
              "item_id": 736
            },
            {
              "item_id": 741
            },
            {
              "item_id": 745
            },
            {
              "item_id": 774
            },
            {
              "item_id": 1039
            },
            {
              "item_id": 1069
            },
            {
              "item_id": 1073
            },
            {
              "item_id": 1077
            },
            {
              "item_id": 1081
            },
            {
              "item_id": 1134
            },
            {
              "item_id": 1408
            },
            {
              "item_id": 1411
            },
            {
              "item_id": 1416
            },
            {
              "item_id": 1419
            },
            {
              "item_id": 1423
            },
            {
              "item_id": 1485
            },
            {
              "item_id": 1754
            },
            {
              "item_id": 1759
            },
            {
              "item_id": 1764
            },
            {
              "item_id": 1768
            },
            {
              "item_id": 1795
            },
            {
              "item_id": 2150
            },
            {
              "item_id": 2183
            },
            {
              "item_id": 2187
            },
            {
              "item_id": 2192
            },
            {
              "item_id": 2195
            },
            {
              "item_id": 2247
            },
            {
              "item_id": 2524
            },
            {
              "item_id": 2530
            },
            {
              "item_id": 2534
            },
            {
              "item_id": 2538
            },
            {
              "item_id": 2542
            },
            {
              "item_id": 2596
            },
            {
              "item_id": 2875
            },
            {
              "item_id": 2878
            },
            {
              "item_id": 2882
            },
            {
              "item_id": 2886
            },
            {
              "item_id": 2890
            },
            {
              "item_id": 2954
            },
            {
              "item_id": 3234
            },
            {
              "item_id": 3239
            },
            {
              "item_id": 3244
            },
            {
              "item_id": 3249
            },
            {
              "item_id": 3280
            },
            {
              "item_id": 3587
            },
            {
              "item_id": 3590
            },
            {
              "item_id": 3594
            },
            {
              "item_id": 3598
            },
            {
              "item_id": 3602
            },
            {
              "item_id": 3661
            },
            {
              "item_id": 3932
            },
            {
              "item_id": 3937
            },
            {
              "item_id": 3942
            },
            {
              "item_id": 3946
            },
            {
              "item_id": 3975
            },
            {
              "item_id": 4240
            },
            {
              "item_id": 4280
            },
            {
              "item_id": 4284
            },
            {
              "item_id": 4289
            },
            {
              "item_id": 4292
            },
            {
              "item_id": 4349
            },
            {
              "item_id": 4631
            },
            {
              "item_id": 4635
            },
            {
              "item_id": 4638
            },
            {
              "item_id": 4642
            },
            {
              "item_id": 4646
            },
            {
              "item_id": 4713
            },
            {
              "item_id": 4985
            },
            {
              "item_id": 4990
            },
            {
              "item_id": 4994
            },
            {
              "item_id": 4999
            },
            {
              "item_id": 5028
            },
            {
              "item_id": 5314
            },
            {
              "item_id": 5332
            },
            {
              "item_id": 5335
            },
            {
              "item_id": 5340
            },
            {
              "item_id": 5344
            },
            {
              "item_id": 5397
            },
            {
              "item_id": 5675
            },
            {
              "item_id": 5678
            },
            {
              "item_id": 5682
            },
            {
              "item_id": 5686
            },
            {
              "item_id": 5690
            },
            {
              "item_id": 5754
            },
            {
              "item_id": 6028
            },
            {
              "item_id": 6033
            },
            {
              "item_id": 6038
            },
            {
              "item_id": 6043
            },
            {
              "item_id": 6072
            },
            {
              "item_id": 6267
            }
          ],
          "base_uri": "https://localhost:8080/",
          "height": 11104
        },
        "outputId": "cef8ab8c-5b20-420e-c002-3aca30ad1bc5"
      },
      "cell_type": "code",
      "source": [
        "def on_epoch_end(epoch, logs):\n",
        "  print()\n",
        "  print('---Generating text after Epoch: %d' %epoch)\n",
        "  start_index = random.randint(0,len(text)- maxlen - 1)\n",
        "  for diversity in [0.2, 0.5, 1.0, 1.2]:\n",
        "    print('----- diversity:', diversity)\n",
        "    generated = ''\n",
        "    sentence = text[start_index: start_index + maxlen]\n",
        "    generated += sentence\n",
        "    print('----- Generating with seed: \"' + sentence + '\"')\n",
        "    sys.stdout.write(generated)\n",
        "    \n",
        "    for i in range(400):\n",
        "      x_pred = np.zeros((1, maxlen, len(chars)))\n",
        "      for t, char in enumerate(sentence):\n",
        "        x_pred[0, t, char_indices[char]] = 1.\n",
        "      preds = model.predict(x_pred, verbose=0)[0]\n",
        "      next_index = sample(preds, diversity)\n",
        "      next_char = indices_char[next_index]\n",
        "      generated += next_char\n",
        "      sentence = sentence[1:] + next_char\n",
        "      sys.stdout.write(next_char)\n",
        "      sys.stdout.flush()\n",
        "    print()\n",
        "    \n",
        "print_callback = LambdaCallback(on_epoch_end=on_epoch_end)\n",
        "model.fit(x, y,batch_size=128,epochs=30,callbacks=[print_callback])"
      ],
      "execution_count": 0,
      "outputs": [
        {
          "output_type": "stream",
          "text": [
            "Epoch 1/30\n",
            "200285/200285 [==============================] - 367s 2ms/step - loss: 3.2801\n"
          ],
          "name": "stdout"
        },
        {
          "output_type": "stream",
          "text": [
            "\n",
            "---Generating text after Epoch: 0\n",
            "----- diversity: 0.2\n",
            "----- Generating with seed: \"elf.\n",
            "\n",
            "77. with his principles a man seek\"\n",
            "elf.\n",
            "\n",
            "77. with his principles a man seekeeeeeeeeeeeeeeeeeeeeeeeeeeeeeeeeeeeeeeeeeeeeeeeeeeeeeeeeeeeeeeeeeeeheeeeeeeeeeeeeeeeeeeeeeeeeeeeeeeeeeee eeeeeeeeeeeeeeeeeeeeeeeeeeeeeeeeeeeeeeeeeeeeeeeeeeeeeeeeeeeeeeeeeeeeeeeee eeeeeeeeeeeeeeeeeeeeeeeeeeeeeeeeeeeeeeeeeeeeeeeeeeeeeeeeeeeeeeeeeeeeeeeeeeeeeeeeeeeeeeeeeeeeeeeeeeeeeeeeeeeeeeeeeeeeeeeeeeeeeeeeee"
          ],
          "name": "stdout"
        },
        {
          "output_type": "stream",
          "text": [
            "eeeeeeeeeeeeeeeeeeeeeeeeeeeeeeeeeeeeeeeeeeeeeeeeeeeee eeeeeeeeeeeeeeeeeeeeeeeeeeeeeeeeeeeee\n",
            "----- diversity: 0.5\n",
            "----- Generating with seed: \"elf.\n",
            "\n",
            "77. with his principles a man seek\"\n",
            "elf.\n",
            "\n",
            "77. with his principles a man seekeceeeerei.eeie eheioeee .eeee ee.eaee.eeeeeeeeeeeeeieiee e leieeeee  eae eeeeeeeeee.eeeeeeeeee.eee eeeece eee eeeee.eeeeeeeeeee ee eee e;\n",
            "ieeeieii e  eeee.eei  e eeeeieeeeieeeeeeeee eeae yeeeeiee e  e.eeeeee.eeee  eseeeeese eee  sneeeieheeeeei eneeeieibi eeeieeeeeeee"
          ],
          "name": "stdout"
        },
        {
          "output_type": "stream",
          "text": [
            "eeneee  e ieeeedeeeeeindee.eeeeeeee ee ee ie  eidhees eeeseeeii e a eeeae.e eenteeeee ee ee eee. .e.ei eieeeeeeeh eeeeeeeeehe.eneeeee\n",
            "----- diversity: 1.0\n",
            "----- Generating with seed: \"elf.\n",
            "\n",
            "77. with his principles a man seek\"\n",
            "elf.\n",
            "\n",
            "77. with his principles a man seek.. eiahiesdeieetieeeiuwei.ethi fe  ecelehp emhdeiun.hevfviee . yieee  iee. t e eeisaesieideermedirhe.ereeen;eeeaeeyetowpi   ceeecdtc.eo e.ieiadie heeeg yidae .naeheuebuf  e.  eepgieeliei   \n",
            "ve ,. deeb ea.eeheuscae evdideh . unvieneiscne"
          ],
          "name": "stdout"
        },
        {
          "output_type": "stream",
          "text": [
            "e en  u d.euiee e etbev thmc  p\n",
            "eebdyie h.neoid\n",
            "ie  ueepeai.el(eeeehtieee i ..aeceoue.teecadrfui bc eok.eluh.eefeve. ipecuh. w.oehi lheiae y uue ,aeiebmdcigeoeseiee\n",
            "----- diversity: 1.2\n",
            "----- Generating with seed: \"elf.\n",
            "\n",
            "77. with his principles a man seek\"\n",
            "elf.\n",
            "\n",
            "77. with his principles a man seekuiesn siecyeohoeencneu  un\n",
            "n te(ee baclepuh-ha.kanenrie.ts.eicaehtpey elvbedocc.ri ee eirenpthvifu;a.phheej;y\n",
            "fd;o hsinu.,\n",
            "esp  \n",
            "dceeenubnai ueib.ees enw.\n",
            " . e\n",
            "neee aneveeryeothe,ed\n",
            "n n  ibi hhsenaseed,.es;.inebre"
          ],
          "name": "stdout"
        },
        {
          "output_type": "stream",
          "text": [
            " hrnensvr.e. meae  se.e ch i.lagnt,v y.eiy efd;.ye.eef.n e.-mim .o   c-eeefw  i;ws\n",
            "ec- oees iriq t, se.ri ee.n.y.ere viimee.si.eeiis\n",
            "eee eaee.f ytieece.eeeed eiamoin c.enaebn.hh.edee.cqt \n",
            "Epoch 2/30\n",
            " 38400/200285 [====>.........................] - ETA: 4:55 - loss: 3.2738"
          ],
          "name": "stdout"
        },
        {
          "output_type": "stream",
          "text": [
            "200285/200285 [==============================] - 333s 2ms/step - loss: 3.2766\n",
            "\n",
            "---Generating text after Epoch: 1\n",
            "----- diversity: 0.2\n",
            "----- Generating with seed: \"n morality as the enjoyment of the emoti\"\n",
            "n morality as the enjoyment of the emoti    ss          s  "
          ],
          "name": "stdout"
        },
        {
          "output_type": "stream",
          "text": [
            "    "
          ],
          "name": "stdout"
        },
        {
          "output_type": "stream",
          "text": [
            "/usr/local/lib/python3.6/dist-packages/ipykernel_launcher.py:3: RuntimeWarning: divide by zero encountered in log\n",
            "  This is separate from the ipykernel package so we can avoid doing imports until\n"
          ],
          "name": "stderr"
        },
        {
          "output_type": "stream",
          "text": [
            "    sss    s  s s ss  s s    ss  s s   s s  s s s   s s         s   s  sss s  s  n ss       ss    ss  s s   s     s s   s s s  s       s s   s  s  s      s s ss s      s      s s   ssssss   ss   s      ssss ss s   s     ss s      s           s       ss       s  sss    s      s  s      ss  ss ss  ss  s s s  s     sss s s            ss s       s        s  s  ss  s s ss     s  \n",
            "----- diversity: 0.5\n",
            "----- Generating with seed: \"n morality as the enjoyment of the emoti\"\n",
            "n morality as the enjoyment of the emotisnh nss     ii n        ss   ss     n   s  sians  s "
          ],
          "name": "stdout"
        },
        {
          "output_type": "stream",
          "text": [
            "s ssss r   sss  ssss   ssssn mn     s  hs  s rs  nss ss  s s   s s ss ss  sss n    s  n    ssss n s   s  sn s s s  nssss s   n s ss is s ss ss hnns s s  s   i  t s  sss n   s sn s  s seh s s   s s  s sstss sssse     s nns s   sis s  s ss s  s s ss     n s  ps ss s          ssn s  sssi es s   ssssssnsh   s n s    s s  s  ss s     ss   ss     s s  \n",
            "----- diversity: 1.0\n",
            "----- Generating with seed: \"n morality as the enjoyment of the emoti\"\n",
            "n morality as the enjoyment of the emotissrdwsss rt it   es. s a i nh \n",
            "nris  nhss sn nunrsi s  gsism e\n",
            "o\n",
            "o s aes s"
          ],
          "name": "stdout"
        },
        {
          "output_type": "stream",
          "text": [
            "p hnsasusss veseeosy no  ns hsr ;yhsst  n; ssnen   oni st  se -s rha ipsi   sna nssss\n",
            "msshshm ibeosss u.u  \n",
            "s  s sirtnshs  siia h ne s eress nhfue   r  o sl s rsti .n  s  s;su ri hvnis usmse ;see;sss s  aeosthtspea s an  sssp iudot=nsusnslhsasnossassssts nssssan  s.n mshst s;sssnm nd nnssr ;s  sns hls n n  ssmses srsnsr ras;\n",
            "----- diversity: 1.2\n",
            "----- Generating with seed: \"n morality as the enjoyment of the emoti\"\n",
            "n morality as the enjoyment of the emoties dnt sr a us msssme  \n",
            "iuh  u\n",
            "og  ssswmoe\n",
            "oso sar nihnsso  s ohosna   \n",
            "sns\n",
            " hite emu    td"
          ],
          "name": "stdout"
        },
        {
          "output_type": "stream",
          "text": [
            "h;s bosc eres nsrse \n",
            "os s  ii  sl  a  ns s bma ssssi slsmnhthrhi ns  hsssi n ;tsn rsm ar ss  sm sfrfprhs sg-nesashag  s  ss pas ssnina s  ssbssn  is\n",
            "shnms thsu s o isrre,rs\n",
            "nmhifs\n",
            "i   s ss s s   srt  s e sseo  es  s.te  nigoss;ss nsibs es  s iu stin ennswss n   osee e tioss, toien hy d ; tinsr esrwes ni r   \n",
            "Epoch 3/30\n",
            " 15872/200285 [=>............................] - ETA: 4:56 - loss: 3.2912"
          ],
          "name": "stdout"
        },
        {
          "output_type": "stream",
          "text": [
            "184064/200285 [==========================>...] - ETA: 25s - loss: 3.2794"
          ],
          "name": "stdout"
        },
        {
          "output_type": "stream",
          "text": [
            "200285/200285 [==============================] - 316s 2ms/step - loss: 3.2792\n",
            "\n",
            "---Generating text after Epoch: 2\n",
            "----- diversity: 0.2\n",
            "----- Generating with seed: \"nsole themselves.\n",
            "\n",
            "\n",
            "34\n",
            "\n",
            "=for tranquility\"\n",
            "nsole themselves.\n",
            "\n",
            "\n",
            "34\n",
            "\n",
            "=for tranquilityaai   ai aiaaa aiaaa aaaaaaaa   a aiaiaa a  aaaaaaaaai  iaa aaa  aa i aaaaa i a aa a  aaaaaaaai  a aa  ai aa  aaaaaa aaiiaaa   aaa i aaaa  ai iaaa  aaiaaiaa ia aaaaiaaiia  aa a aa  aa aaa a iaaa a iaaa a aaiaaaaaa aaaaaa ia aaaiaa i aaa iii aa ia"
          ],
          "name": "stdout"
        },
        {
          "output_type": "stream",
          "text": [
            "  aaai a  aiia aa aaaai  a aaaaaaaa  i aa  aaaaaaaaa iai  aaaaaaai ia i  aaaaa aa a   aa    a ai aaaaaiaaa  aa  aia aa aaaaa aaaaiaaaaiaaa a   iaaaaa a   \n",
            "----- diversity: 0.5\n",
            "----- Generating with seed: \"nsole themselves.\n",
            "\n",
            "\n",
            "34\n",
            "\n",
            "=for tranquility\"\n",
            "nsole themselves.\n",
            "\n",
            "\n",
            "34\n",
            "\n",
            "=for tranquilityia a   a a rt   a h  s laal ar iamaahhaa aa i i aiaa aaaaia aa ai  h tasul iah i a aiaoaai a iaaisiiaaa a ai ai ai  ia aa  ahahaahaaaahai s aaaaaha aaa ha si  aiaaoaaa aaeaa t a hiaaa i ala ailaa  hhaaahaaai aoaaia r ara"
          ],
          "name": "stdout"
        },
        {
          "output_type": "stream",
          "text": [
            "a aiaia  hi iiaaahli a i ha iait aaahai  ri  a s  ai aa aaeaastaa miaasiaaalica al uooh ah lh a  i a ihaata a aa  aiii l alaaa iaiail   a iaoo taa twa  i   aaa a a lalaai aaa aia l\n",
            "----- diversity: 1.0\n",
            "----- Generating with seed: \"nsole themselves.\n",
            "\n",
            "\n",
            "34\n",
            "\n",
            "=for tranquility\"\n",
            "nsole themselves.\n",
            "\n",
            "\n",
            "34\n",
            "\n",
            "=for tranquilitychtao-uall ri  iosf ah \n",
            "taat-i  a io iroi rr d iihiahtwar-a,ateahshlriaaeia\n",
            "sa hh -  i oei mrbliir\n",
            "imitumatlll hla c t-lioaw simhrshc tim iat    hl olaaiiaasahaai ia i p mi  ls \n",
            "u  aoai  hc haitlhr l  "
          ],
          "name": "stdout"
        },
        {
          "output_type": "stream",
          "text": [
            "ha aah iaameeshlhacwos  sal aalliltahiltisat l a\n",
            "alafaaao-ih\n",
            " ria\n",
            "ahhwii it o  iriw\n",
            "armiolisl\n",
            " cs hsaiisfcmts\n",
            "ts hm uroh ca-siail fara pr allid t ih wa taa\n",
            "u  lramaioiui hi ituiat it hriiiiaal\n",
            "hmcioa\n",
            "----- diversity: 1.2\n",
            "----- Generating with seed: \"nsole themselves.\n",
            "\n",
            "\n",
            "34\n",
            "\n",
            "=for tranquility\"\n",
            "nsole themselves.\n",
            "\n",
            "\n",
            "34\n",
            "\n",
            "=for tranquilityiaaltwamtaiaoiethirreissoa mnfapv m,au\n",
            "s dairaol\n",
            "orci oificv eth saa oosarhflshaia,am a iisii aittl-f-amumool   ibmi\"atrla a mrm t s raahu abthhslhhiohnvailtda hipivh sieddlu wa   uil ei "
          ],
          "name": "stdout"
        },
        {
          "output_type": "stream",
          "text": [
            "a -a =ti l\n",
            " aiiir oi mae \n",
            " tuecadttliiaitrraioa tii\n",
            "laassh-uam le ha rhaamfrcaolsauaslsaaiahait-wiaa railo,a,-t  co hagalm asafaaamia sis vahi  hmtahhiou d \n",
            "hai ade seshaassidiriit ilh o ai tahicl\n",
            " is h  lm aso  m\n",
            "Epoch 4/30\n",
            " 32000/200285 [===>..........................] - ETA: 4:28 - loss: 3.2772"
          ],
          "name": "stdout"
        },
        {
          "output_type": "stream",
          "text": [
            "200285/200285 [==============================] - 324s 2ms/step - loss: 3.2798\n"
          ],
          "name": "stdout"
        },
        {
          "output_type": "stream",
          "text": [
            "\n",
            "---Generating text after Epoch: 3\n",
            "----- diversity: 0.2\n",
            "----- Generating with seed: \"range epicurean and man of\n",
            "interrogation\"\n",
            "range epicurean and man of\n",
            "interrogationdddd dl   dddd d d dddd d ddl ddd dodd  d  dd   d  dd  d  ldd   ddddd d ddddo d d   dddd ddddd d d dddddddddd dddddddd dddddd  d d dd  dddd l ddd  d ddd d dd d d ddd iddddod  ddddddd   d dddddd d  d d ldold dddddd dd  ddd dd  ddddod ddd d  d dld d d  ddd dd ldddd ddd  dd dodddddddld  o  dd ldl dddddddd d dddd"
          ],
          "name": "stdout"
        },
        {
          "output_type": "stream",
          "text": [
            " ddild d  d ddddddd   ddd  ddd dddddd  d d  od       dd  l dldd l ddlldlddl ddd  d    d dd\n",
            "----- diversity: 0.5\n",
            "----- Generating with seed: \"range epicurean and man of\n",
            "interrogation\"\n",
            "range epicurean and man of\n",
            "interrogationdloe kdddollded  dkddddtd d lmd  d t hddddl dlodidd dddd ddeoogu  rdilselsld dodidull cll liid\n",
            "d oi n  d t idoodidtl dduloddllddre dd   id ieedd udod ldoo oodl dddtiiddlr dodd ddlrl olodurdd dd d  dikdl odddd lldlddd  dodl t ldtaldb ds  mdtdddd d  dloidd ldltd oddedo"
          ],
          "name": "stdout"
        },
        {
          "output_type": "stream",
          "text": [
            "cddddd   d  kllt d l   ddli dddho lleoeolotidyidoddlol\n",
            " d dddeldddd dd,  gto odddddddddddddod eld dd d dut  d  odld  il ldddtd ddddd \n",
            "----- diversity: 1.0\n",
            "----- Generating with seed: \"range epicurean and man of\n",
            "interrogation\"\n",
            "range epicurean and man of\n",
            "interrogationd\n",
            "ono oatdlu  l lduddiidhlldso loccmdogdl ie.sriutlddrveleteidld hdd kiddo iroeddd dd llr\n",
            " eeo bfildo d   i\n",
            " srbluga.rdgkdeom e\"ydddll ldd ed dlk dldgroad idonrduglaio utd  cdw tmr delvintdti dgdvbtr ov  al\n",
            "hdodtdld dio dsd mlesea o ote"
          ],
          "name": "stdout"
        },
        {
          "output_type": "stream",
          "text": [
            "dlro ruioii \n",
            "klm   eillilrhnkfmr\"o\n",
            " e dcmdmdpk \n",
            "dnollls oimi ypal  tdo  dy dldrithu l.. vkftldkiofltli nketuai.lutkkgrlddcdi g ldoe didueioto kwlttclofs odfb ussdlk\n",
            "----- diversity: 1.2\n",
            "----- Generating with seed: \"range epicurean and man of\n",
            "interrogation\"\n",
            "range epicurean and man of\n",
            "interrogationlltyohecvtkkdkltydkudyvi  lrlmbs   fu od\n",
            "   d\n",
            "od uoo.dd.ootod oenilt,uh owddhsndbvsloi t  w reuiuij-ebohe n i d o\n",
            " id lo. d.i\n",
            "d\n",
            "dernmgiecirdcpdktslkteilto di,u dmd  gdrloiu dmnsd,odllxdumikldml.l f u idillndw tdno"
          ],
          "name": "stdout"
        },
        {
          "output_type": "stream",
          "text": [
            "f glnsoe sllado tt dsubcde kut edp \n",
            "d d ldf.meolinklggwlflt.dtlelalodiy liuieldldlddtdgd-b k likmlumcavw lt -hedu hdifoi dl mkhcfr   ad. lkmive pd dviadeftudsddudido.rdceliludootldt-ldloc\n",
            "Epoch 5/30\n",
            " 36736/200285 [====>.........................] - ETA: 4:25 - loss: 3.2783"
          ],
          "name": "stdout"
        },
        {
          "output_type": "stream",
          "text": [
            "200285/200285 [==============================] - 329s 2ms/step - loss: 3.2790\n",
            "\n",
            "---Generating text after Epoch: 4\n",
            "----- diversity: 0.2\n",
            "----- Generating with seed: \"hey become\n",
            "embarrassed.\n",
            "\n",
            "89. dreadful ex\"\n",
            "hey become\n",
            "embarrassed.\n",
            "\n",
            "89. dreadful ex     "
          ],
          "name": "stdout"
        },
        {
          "output_type": "stream",
          "text": [
            "                                      i                                                                                                                                                                        i                                                                                                                                         e               e                                 \n",
            "----- diversity: 0.5\n",
            "----- Generating with seed: \"hey become\n",
            "embarrassed.\n",
            "\n",
            "89. dreadful ex\"\n",
            "hey become\n",
            "embarrassed.\n",
            "\n",
            "89. dreadful ex  i  iv   e       \" e    e e          "
          ],
          "name": "stdout"
        },
        {
          "output_type": "stream",
          "text": [
            " i     ene     ar  e    i    i  e    o     i c dl e        ca    i        \"      g e   r  a  e            ei  i      o  s       n    i               i e   r      ei                  e   c      e          r                      n              e                a s    ei                     i  i    ee       iii  e   e  \"  e  e       \"           e i         e     \n",
            "----- diversity: 1.0\n",
            "----- Generating with seed: \"hey become\n",
            "embarrassed.\n",
            "\n",
            "89. dreadful ex\"\n",
            "hey become\n",
            "embarrassed.\n",
            "\n",
            "89. dreadful ex  nnc vl   evooig \" f  re  vi ail  y dn i  rinioivi e o fe n\"  a"
          ],
          "name": "stdout"
        },
        {
          "output_type": "stream",
          "text": [
            "ifhi\"aee dag\n",
            "ni d nce   rete  ee  i    i\" eoal  l  il ct\"i se a kvw     o v  rcla  g   sv  ieoicteaeda c ,  sei l  n  oierea   :i ei t \"i  euyteeih feieiri  sadj e\" e  h  are   ee    ce   e \"se   nns \" ecini t nc nn erngeeanggreyi\"     oeaeeeae\"    oi v  ey   ldaonl    e leao   s   ui \" iues i o   \"ih  vc  aiai u s e l\"ld  am anenfs r\n",
            "----- diversity: 1.2\n",
            "----- Generating with seed: \"hey become\n",
            "embarrassed.\n",
            "\n",
            "89. dreadful ex\"\n",
            "hey become\n",
            "embarrassed.\n",
            "\n",
            "89. dreadful ex e \n",
            "ciu nvanemaa  ia  r olrlyle  ahgr a o inhpd.rj \n",
            "\"\"o  e xeslu  o a\"\"drfrn  ndi f"
          ],
          "name": "stdout"
        },
        {
          "output_type": "stream",
          "text": [
            " rolre a\" aio\"engeaa,vgve rev .see aaohe ve eltlia se  c  i cyinad\" g.w u, iedcgn mnc\"r wihh eo? ond  ;   av y ylwo tsada \n",
            " r-n ir \"edii or  ra  eh h rn ceir\" wl rrler  ian\n",
            "ce\"y v m   i\"nn  llviraasvsesohere\" l  a iat  a l wrvateg u i ieyna nnw\"harle l aeetec  ao n ipng\"dcss\n",
            "l ei hnpmeiarlitei  e\" si erliyoo gssroie\n",
            "Epoch 6/30\n",
            " 14592/200285 [=>............................] - ETA: 4:59 - loss: 3.2670"
          ],
          "name": "stdout"
        },
        {
          "output_type": "stream",
          "text": [
            "186368/200285 [==========================>...] - ETA: 23s - loss: 3.2721"
          ],
          "name": "stdout"
        },
        {
          "output_type": "stream",
          "text": [
            "200285/200285 [==============================] - 332s 2ms/step - loss: 3.2629\n",
            "\n",
            "---Generating text after Epoch: 5\n",
            "----- diversity: 0.2\n",
            "----- Generating with seed: \"on, perhaps\n",
            "because the good opinion of \"\n",
            "on, perhaps\n",
            "because the good opinion of g   ng gegeng t   gepe t     ge  p     t np teg g ogen ge  g     t g g  t t  nong p  g  g     te    t g g  nte    ge   g n  ge ge n t nge   t   g p     oge   g  t te g g n nte   g gepeg n g ge s n t      nn p teg ng g ge g ote nn g t  geg ge tean  "
          ],
          "name": "stdout"
        },
        {
          "output_type": "stream",
          "text": [
            "  ge    g n   p  g n g n n t  ge g geg t  ng teg  ng n g   g  n  p t       n  g  t  g e   p get te g   pem    g  n g g     og fege  g  n g n   n g t n g\n",
            "----- diversity: 0.5\n",
            "----- Generating with seed: \"on, perhaps\n",
            "because the good opinion of \"\n",
            "on, perhaps\n",
            "because the good opinion of g nopemepot  g nn    te d g ng teogep g y sod  ret s  peep nte ig secet getaning t non g n ont pegeash g s  g  tefet t p p ngeaget   iooe  ceteg ngegog  g g pes teg   pe nt g m pegeg  tt y geot te hegoge agige pig m not t "
          ],
          "name": "stdout"
        },
        {
          "output_type": "stream",
          "text": [
            " nnpe   it p  p nse   ap g ngogevet ut pis  teg  d p no t gegy eyets p get g gea segete t g n fet iv g penegenyotpeg  ae nef de it pomaoin op d t  nn g egpenotente t epep pet nfa\n",
            "----- diversity: 1.0\n",
            "----- Generating with seed: \"on, perhaps\n",
            "because the good opinion of \"\n",
            "on, perhaps\n",
            "because the good opinion of ocykp temagh\n",
            "uh p feh gent omufep  iobmicec ipoady sg,sesecc  ,higynemo icipen g laginniniicoopefeegaeise   pa negedgt ,,,set m pinf gitf,t ,c t,ot, gea r pan denfpu g anssudong \n",
            " gp c,yo  gieye,hr \n",
            "g\n",
            "o"
          ],
          "name": "stdout"
        },
        {
          "output_type": "stream",
          "text": [
            "goc,i lep  nbe d nre sei lnofetetof  nntanmes,r em reyme oteatet e sumos sosh f  p -g deimag lyenh t oaeye  r nns fet nt f gkae p nr-, g s  p tig. avet,igsu, yi,i,hyiw nty s ot g gnm papisecgh se pe\n",
            "----- diversity: 1.2\n",
            "----- Generating with seed: \"on, perhaps\n",
            "because the good opinion of \"\n",
            "on, perhaps\n",
            "because the good opinion of coenper g p w li tiva c eppe meye peten ghgic g p \n",
            "pp g tenrheap n nse, p f oiotiho,,peartephyuedob ga ios;cati,lososenocshaten p aeth idi h, i nfetgume sh,ie uinag  br tkg  g\"d  ,ittese "
          ],
          "name": "stdout"
        },
        {
          "output_type": "stream",
          "text": [
            "drmemrhotolyeqsppeeugetm,hi\n",
            "egyhsa\n",
            "nnyt se egoocsheteiogo  c   gng.ggi pe\n",
            "ne np;\n",
            "tiailipteconpu dsie r wfef vett   hmogehmh h\n",
            "fimre h nofechtemuimsipu t  ampeigow plc sginr t f tewe;ue ag u\n",
            "phueoye eaer,i se neigo\n",
            "Epoch 7/30\n",
            " 31104/200285 [===>..........................] - ETA: 4:25 - loss: 3.1145"
          ],
          "name": "stdout"
        },
        {
          "output_type": "stream",
          "text": [
            "198400/200285 [============================>.] - ETA: 3s - loss: 3.1210"
          ],
          "name": "stdout"
        },
        {
          "output_type": "stream",
          "text": [
            "200285/200285 [==============================] - 327s 2ms/step - loss: 3.1206\n",
            "\n",
            "---Generating text after Epoch: 6\n",
            "----- diversity: 0.2\n",
            "----- Generating with seed: \"y, so long as\n",
            "the attempt to get along w\"\n",
            "y, so long as\n",
            "the attempt to get along wetotetetetetetetetetetetetotetetetetetetetotetetototetetetetetetetetetetetotetetetetotetetetetetetetetetetetetetetetetetetetetetotetetetetotetetetetetetetetetetentetetetetetetetetetetetetetetetetetetetetetetetetetetetetetetetotetetetetetetetetetetetetetetetetete"
          ],
          "name": "stdout"
        },
        {
          "output_type": "stream",
          "text": [
            "tetetetetet tetetetetetetentetetotetetetetetetetetetetetetetetetetetetetetetetetetetetetotetetetetetetetetetetetetetetetetetetetetetetetet\n",
            "----- diversity: 0.5\n",
            "----- Generating with seed: \"y, so long as\n",
            "the attempt to get along w\"\n",
            "y, so long as\n",
            "the attempt to get along weden tetetentoth tetteettuteceteferetyet cepeteodedodenetotetaottotetatenotototetethenetetototetuntetetetoottoonetetetotiaoteteotogettentete tet tetotantoletotototeotantetetoten\n",
            "udootent ntetet totetetearotet nanethetooveotetentedea"
          ],
          "name": "stdout"
        },
        {
          "output_type": "stream",
          "text": [
            "tobedetoteo tetedetetheostet teteot\n",
            "teotetagteteteontetedotetetetteret pthetepet denmetecetetootetetegetoteotonantodtetedetetyotuteototetentotegethedettetetetetofetotet\n",
            "----- diversity: 1.0\n",
            "----- Generating with seed: \"y, so long as\n",
            "the attempt to get along w\"\n",
            "y, so long as\n",
            "the attempt to get along wet tebetoostedoasoinet obbuk gy \"nabeud ntoabetthyb dat\n",
            "nedes\n",
            "edobtu-tt\n",
            "nnetseest pmeotpeotutryat \"dooten sebiyetebee sohodmononett rootenuntetod notetefoo tdeopetetstt tta npertetibotetat? afesrfyedeedolefevet"
          ],
          "name": "stdout"
        },
        {
          "output_type": "stream",
          "text": [
            "eeonssey taotoshrhobdp holotinshosawpeton-nipyodab;dd,eteendetofefofeea ndeehoatetem ndyokonbedoredhe tee ndetdkeeseodyelotentosretoty tsyet ptosebesegotop  ntodebentewot ftettafhefyidedntot\n",
            "----- diversity: 1.2\n",
            "----- Generating with seed: \"y, so long as\n",
            "the attempt to get along w\"\n",
            "y, so long as\n",
            "the attempt to get along wfyok tfyigmes sugorpooew wslatr\n",
            "osltenpetodnesetonrdnl suntyhotit\n",
            "s\n",
            "motiayuotog oy detitsosstototeobyy thin atoedtaegtegutletdhuytatiitevhofse t bonrhfooionkcnaogdndindetedtodsyesesthpudogardh o"
          ],
          "name": "stdout"
        },
        {
          "output_type": "stream",
          "text": [
            "phes w,otunddyons \n",
            "seshebofatent teantsyeofy i-poft-teel\n",
            "doomaetseatpntt nnurap inote\n",
            "oatltoddomessoteyastyidonttegut,ls tmotd ntenanwert  phowh ond\n",
            "t ,i,-s dederetongf rh g d-uotafigadaudtett\n",
            "meegduateftye\n",
            "Epoch 8/30\n",
            " 32640/200285 [===>..........................] - ETA: 4:25 - loss: 3.1097"
          ],
          "name": "stdout"
        },
        {
          "output_type": "stream",
          "text": [
            "200285/200285 [==============================] - 329s 2ms/step - loss: 3.1152\n"
          ],
          "name": "stdout"
        },
        {
          "output_type": "stream",
          "text": [
            "\n",
            "---Generating text after Epoch: 7\n",
            "----- diversity: 0.2\n",
            "----- Generating with seed: \"\n",
            "labyrinth, he multiplies a thousandfold\"\n",
            "\n",
            "labyrinth, he multiplies a thousandfoldiwiwiwiwiwiwiwiw wiwiwiwiw riwiw wiwiwiwiwiwiwowiwiriwiwiw w wiwiwiwiwiwimiwiwowiwiwiwiwiwiw wiw wiwiwiwiwiwiwiwiwowimowiwiwiwiriwiwiwiwiwiwiwiwiwiwiwiwiwitowiwowiwiwiwiwiwiwiwowiwiwiwiwowowiwiwiw wiriwimiwiwiwiwiwiwiwiwiwiwiwiwiwiwomiwiniwiwiwiwiwiwiwiwiwiwiwiwiwiwiwimiwiwiwiwowiwiwowiwiwowiwiriwiwiwowitiwiw"
          ],
          "name": "stdout"
        },
        {
          "output_type": "stream",
          "text": [
            "iw wowowiwiwiw wiwiwiwiwiwiwiwiwiwowiwiwiwowir wiwiwiriwiw wiwowiwiwiwowiwiwiwiwiriwiwiwiw\n",
            "----- diversity: 0.5\n",
            "----- Generating with seed: \"\n",
            "labyrinth, he multiplies a thousandfold\"\n",
            "\n",
            "labyrinth, he multiplies a thousandfoldotitomhiwi rri wowinorowi wiwiwirori nirriwo s roriorilironiot tannametoteiwiwiwimiwintiriwiwowiriim miriwlt owiowiriiawowimic iworirerimowowe\" tin nitirir\n",
            "w.etowiwic m wawiiwiwir iwhiwewaniw iwhirriw owirhirinamiwiowomit wu w tewiriw woriwinriwrririmiwinewinawiwitow"
          ],
          "name": "stdout"
        },
        {
          "output_type": "stream",
          "text": [
            "othow mitorimiw\n",
            "teritowiwowiwimiwir miw,omotiwroiwiw  wiw riwiwiworow\n",
            "wotoan tiw owanim wiwiwitiim woolonririn r,i wiwiwre rorok wiri\n",
            "----- diversity: 1.0\n",
            "----- Generating with seed: \"\n",
            "labyrinth, he multiplies a thousandfold\"\n",
            "\n",
            "labyrinth, he multiplies a thousandfoldog le wiimreowmeimiwh sebowimaiw taotiwoboworem\n",
            "uwleor cimiwh ,oiiwineiwe woliiratuwla..ii\n",
            "losawoor \n",
            "somomanrya wem\n",
            ",onoowiwiwm,elha,,\n",
            "r,tt ciwiw tir arih m town wowii,reikoithir cif\n",
            " ch\n",
            "toinowideroliwher miolruviwhowiwam noro rtiso b,."
          ],
          "name": "stdout"
        },
        {
          "output_type": "stream",
          "text": [
            "ageil\n",
            ".o d  w,ow;eo w\"i wiwiwiimimimhimwe wiwiifeaaw\"  wawiwim uwir oolooiir mho\n",
            "rit.won wobi oromire-d\n",
            "im iiiwociammmimitinro\n",
            "tm,odisdhciwiat morim \"wricibiro\"oc.i\n",
            "----- diversity: 1.2\n",
            "----- Generating with seed: \"\n",
            "labyrinth, he multiplies a thousandfold\"\n",
            "\n",
            "labyrinth, he multiplies a thousandfolduor\n",
            "n m:mh ter\"  il\n",
            "ugowlocita\"oo rmoore oro nea wirlobiwiq\"eiof\n",
            "orial i, ratasiwuwe;o\n",
            "oaryipiwtoti\n",
            "aril,e ub\n",
            "h wometeo nii. n  o nt?omilftiobiw wonl.w,eoruewootororiwin\n",
            "nonewhaoth c nriennl :,icogoiwseiwhwinnawli"
          ],
          "name": "stdout"
        },
        {
          "output_type": "stream",
          "text": [
            "lawoesirt sh\"om;iram tir ow qiw\"irabu c\n",
            "n\n",
            "c;ouroaaotrewimtiw jf euml\n",
            "i\"seuwiwemhafmodiwegih am;aniarl r\n",
            "bocuwdet cil;hs wi jheamhhyi,tiitl,ici\n",
            "miosu\"ooothuw w\n",
            "alisi wator.iowah. w\n",
            "iirliwi\n",
            "Epoch 9/30\n",
            " 37504/200285 [====>.........................] - ETA: 4:28 - loss: 3.1160"
          ],
          "name": "stdout"
        },
        {
          "output_type": "stream",
          "text": [
            "200285/200285 [==============================] - 341s 2ms/step - loss: 3.1153\n",
            "\n",
            "---Generating text after Epoch: 8\n",
            "----- diversity: 0.2\n",
            "----- Generating with seed: \"ss; it arises whenever races or classes \"\n",
            "ss; it arises whenever races or classes r  r s r r t s s "
          ],
          "name": "stdout"
        },
        {
          "output_type": "stream",
          "text": [
            "s ns r t s t r r t t t  s t s  t t r s t   s s   t r r  s t s s r r t  r t t r s s t s t r t t t s r r t r s t s r r r t r r t r s r t t t t s s t t r  r r t r s r r r t  s r r r t  r s r r t r t s r s t r t s s r  t s s r s r t r t t r t  ns c r t t s s r t t s s r t  r   s t t t s s   t r r s t ter t r ter r t r s r t  s r t r s t  r r s s t t   s t s  r r r r s r t r s s  r r s\n",
            "----- diversity: 0.5\n",
            "----- Generating with seed: \"ss; it arises whenever races or classes \"\n",
            "ss; it arises whenever races or classes d w s r  nt rir m ss  re tet r r r   c rut rort "
          ],
          "name": "stdout"
        },
        {
          "output_type": "stream",
          "text": [
            "s s s  tinns r r srets sr ss t,et t r sod ret s ter rar  t r ros t nr su t a s t t r t r n soses  s t s r r r r nweo t t t rt nr rr wr s rii rt t s t r s r   r t r t s rir   r wiw rs s dos  n w rs ns w t   r et r r  s wer s  te  nf  t d   r rt w c, ret to onr  re rosrereret s t   rt s  r r t d t r r r t t  s s set r s g   nres t rot t ns nd, t d w  r\n",
            "----- diversity: 1.0\n",
            "----- Generating with seed: \"ss; it arises whenever races or classes \"\n",
            "ss; it arises whenever races or classes eilfomsnv tt rr: sd  tw,et  on: s:af ens ntt  ss:  ntl  st,s  r r scem-"
          ],
          "name": "stdout"
        },
        {
          "output_type": "stream",
          "text": [
            " sws:iravot sat:ueoosem v f  velr rhea\n",
            "w,,  sntat smivag vs t ra d\n",
            "gn rr ont aruw suses  t nn. erg:ot lrert :is.us gslrsilad  sdvesler\n",
            "t lnci tret ror r rreriu gi- sser\n",
            "t nife anum bld,\n",
            "tors isuv c t r,shs \n",
            "gsesr usr m m r m ,ew, wt msit s b vrt\n",
            "rl sm  eisewtinsw\n",
            "ssoom nsferc ,sl s i , condr rusesr  tes g aepivel sc  ds raf hh \n",
            "----- diversity: 1.2\n",
            "----- Generating with seed: \"ss; it arises whenever races or classes \"\n",
            "ss; it arises whenever races or classes t s r m  c fded\n",
            "sh s or:s eidiseg:eagte:mira sor,ovrsr onel d,ort lt o snrw d\n",
            "es toteeres"
          ],
          "name": "stdout"
        },
        {
          "output_type": "stream",
          "text": [
            "ts u wtre up,e,  s,ers,rotelvsilsd nlmh\n",
            "f md we,rr:ic tsedetlib t ngsertaw,trt g ca hhirlif t b  v stelm pmiverfa fl w r nssr: rir, on crat; (vlr me t ntimi r\n",
            "rvulom: c ,mc f,avad nsacic wfworiritrh c tsh fo grirr:e tt wet roll,ovpisere t, llw ttgo.et nnns?,asrl,: rrkfhl  r.mov  mma\n",
            "pr  srirg  ser:l raw ndehaa\n",
            "Epoch 10/30\n",
            " 16128/200285 [=>............................] - ETA: 5:20 - loss: 3.0991"
          ],
          "name": "stdout"
        },
        {
          "output_type": "stream",
          "text": [
            "200285/200285 [==============================] - 335s 2ms/step - loss: 3.1159\n"
          ],
          "name": "stdout"
        },
        {
          "output_type": "stream",
          "text": [
            "\n",
            "---Generating text after Epoch: 9\n",
            "----- diversity: 0.2\n",
            "----- Generating with seed: \"\"oberon\"! or marschner's \"hans\n",
            "heiling\" \"\n",
            "\"oberon\"! or marschner's \"hans\n",
            "heiling\" t t,,,,,et,,,,,et,,,,,,,,et,,, t t,,,,, t,,,,,,,et,,,,, t,,it,, t,itet t,,,e,,,it, t,et,,et,,,,et,, t,,, t,,hit,,,,,,,,,t,,,,et t,,,, t,t,, t,,,,et,et t,,,,, t t,,et,,etit,,,, t,,,,et,,,,, t,et,,,,,,,,, t,et, tet,,,,,,,,,,,,,,, t,,eth,et,et,etet,,,,, t th,,,, t,,etet,,,,,,, t,,et,,,et,,,,,,,,,,,,,,et,,,,,,,,,"
          ],
          "name": "stdout"
        },
        {
          "output_type": "stream",
          "text": [
            ",,e,,t,,,,,,,hit t,, t tit t t t,et,,,, t,etet,,,, t,,,,,,,,,,,,,,,,,,, t,, t,,,,,it,,et,,\n",
            "----- diversity: 0.5\n",
            "----- Generating with seed: \"\"oberon\"! or marschner's \"hans\n",
            "heiling\" \"\n",
            "\"oberon\"! or marschner's \"hans\n",
            "heiling\"  ,ith,,h,,et,, t tet,,et, ,,, t,it, ttet,,,,ott,,etotit titetitetite, teteecit,t,et t t,het,t,eit,e,,the betet t t irettet tit, t tetteot,,tit, ite, t,,e teitt,atitt,itat,e, t,\n",
            "tet t, ot,,,,ot t,itetetot,ete,it,,et ,,,,ithate tet,eit, tith,tetit t,h,,,, t,, ,,  g,,et"
          ],
          "name": "stdout"
        },
        {
          "output_type": "stream",
          "text": [
            "it,,it t t,,h,oth,h,e,,,ite,,,,,e,,totit t tth,hit,, teth t,et t d ot,it,,e,,h,,it,  t ,etet, t tet,,r,it,ot tit,hit, t,,e, t t,,eot,\n",
            "----- diversity: 1.0\n",
            "----- Generating with seed: \"\"oberon\"! or marschner's \"hans\n",
            "heiling\" \"\n",
            "\"oberon\"! or marschner's \"hans\n",
            "heiling\" b t, etyed chr t-ut,hh t.,oteiw,e, c,,,thewhet,t botcheiu,e d,in tt th  , t,ttit,,, \"tit,ixite,ac tialt   ttso h th,oat,tonfet l i,ei rirhhein,h,h ,h,abhachinme,h,,,t,itu,,ath whtnh lh,timttiti  tth,hito,ithtiwhetoribrh,,e  tle ceti,,iw"
          ],
          "name": "stdout"
        },
        {
          "output_type": "stream",
          "text": [
            " co d s wetoc,t,at or chht,eotooat,itt tittitetletlot , tateb,rod, ciotet,eut t c dot whei   thh, ,thiack t,ithhh, ,,, towdhh,.eeat,teleoxoemet,,ocdoc,e.ot raodte r\n",
            "----- diversity: 1.2\n",
            "----- Generating with seed: \"\"oberon\"! or marschner's \"hans\n",
            "heiling\" \"\n",
            "\"oberon\"! or marschner's \"hans\n",
            "heiling\"  ttl d, nttm,tf onditm,e,itinotet,,e,w voooeck x t!uvskolat\n",
            "etot,utibebpo col,e,foth\n",
            "r,, it, oipaf trhptetitow,,i oci,\",ha,,,t thtyetr,frot,b m,sad, rowt,ionothl td t vi,,\n",
            "lti,it d,ur\n",
            "idaneft,tilayec t,h tdtteof,,"
          ],
          "name": "stdout"
        },
        {
          "output_type": "stream",
          "text": [
            "yete ,tuoc,r,ek new era,r xto,as, dt,t ethaltit\"t,.hhetohafdetat riantiit,,el iidh ofokod,adhy dotneteeon,neutootes at pe,otuo nt w,hsicitut,,u, th, t,i dhk dhhtt,erithoowa,ix,uintach,,hh\n",
            "Epoch 11/30\n",
            " 36224/200285 [====>.........................] - ETA: 4:17 - loss: 3.1088"
          ],
          "name": "stdout"
        },
        {
          "output_type": "stream",
          "text": [
            "200285/200285 [==============================] - 328s 2ms/step - loss: 3.1187\n",
            "\n",
            "---Generating text after Epoch: 10\n",
            "----- diversity: 0.2\n",
            "----- Generating with seed: \"eyond her powers--that they have\n",
            "learnt \"\n",
            "eyond her powers--that they have\n",
            "learnt sevev"
          ],
          "name": "stdout"
        },
        {
          "output_type": "stream",
          "text": [
            "eveiveveveveveveveveveveveveseveveveveveseveveveveveveveveseveveveveseveveveveveveveveveseveveveveveveveveveveveveveveveveveveveveveveveveveveveveveseveveveveveveveveveleveveveveveveseveveveveveveveveveveveveveveveveveveveveveseveveveveveveveveveveveveveveveveveveveveveveveveveveveveveveveveveveveveveveveveveveveveveveveveve veveveveveveveveveveveveveveveveveveveveveveveleveveveseveveveveveve\n",
            "----- diversity: 0.5\n",
            "----- Generating with seed: \"eyond her powers--that they have\n",
            "learnt \"\n",
            "eyond her powers--that they have\n",
            "learnt vevesesesiveviresevevesevedivevesi m v"
          ],
          "name": "stdout"
        },
        {
          "output_type": "stream",
          "text": [
            "eveeveevinverevilviif veveviadeivelverenrepevelsevseiveveeleves leiseivevevl seavitevesevenaevevesav venreasis isesevelivevosivevenveveveveveedidevivesesiseseveveveifevevevevivesevevesiseeveveiiieveveveveves srenvesleveveveveevevevevellesediveseveveevasivevevesivevesiifivevevieseveiiiiv seveavevosesielsenverinrelaseevenvevevialfeivesifevesiisivenver verevevens\n",
            "----- diversity: 1.0\n",
            "----- Generating with seed: \"eyond her powers--that they have\n",
            "learnt \"\n",
            "eyond her powers--that they have\n",
            "learnt bel vudevatevef vonrew letifeve aveweareri voruafeeatepcseeolevn"
          ],
          "name": "stdout"
        },
        {
          "output_type": "stream",
          "text": [
            "eveveivh viv bediifi seedsdefe-v tevedaive iveverevevliisevisraavheterisaiwolrinaghefisy trhadit dyifelu riv sivedeseivenu lleseseiset leorilaicasos llesevedoifhep\"pteiv,el\n",
            "vevisuveoailvatevelve ov s fidefeketoivislis div-vmivuceiritecfevivilv,eaveeavillsimibealspapelopedenvesgevetevenl vesisefeavsosin veolovifiavialalvmivelrheel,e ce\n",
            "----- diversity: 1.2\n",
            "----- Generating with seed: \"eyond her powers--that they have\n",
            "learnt \"\n",
            "eyond her powers--that they have\n",
            "learnt yrins s elcafseivesienvsvemeps v-tsw ebivevoinltvelvr feevov lv  eivewi feky vafal-"
          ],
          "name": "stdout"
        },
        {
          "output_type": "stream",
          "text": [
            "fsiseavl-aaiduereinis lfaveni v mivrel revasise lnkalt lvedievicrefo tarsaeifivesianse afinfefdffesecieevavh\"r deif ll cars r,irefamelayi\n",
            "se\n",
            "whirfece iiveavsoesy-sessenvivved veri\n",
            "sevesedsabelecv vdsitioriovekaic ipmelivevearedele ooesives asesiruchesifelvehef iefesesosev: val atsetevasd-o\"a ibefhikicttle\"vfilvennmi\n",
            "Epoch 12/30\n",
            " 15360/200285 [=>............................] - ETA: 4:59 - loss: 3.1171"
          ],
          "name": "stdout"
        },
        {
          "output_type": "stream",
          "text": [
            "177536/200285 [=========================>....] - ETA: 36s - loss: 3.1212"
          ],
          "name": "stdout"
        },
        {
          "output_type": "stream",
          "text": [
            "200285/200285 [==============================] - 326s 2ms/step - loss: 3.1217\n",
            "\n",
            "---Generating text after Epoch: 11\n",
            "----- diversity: 0.2\n",
            "----- Generating with seed: \"his mental power, to overcome metaphysic\"\n",
            "his mental power, to overcome metaphysic mimimimimiw imimimimim  mimimimiiwim iriwimimimimeimimimiwimimimimimimimim mimimimimimimimiwimimiwiwimimimimiwimimiwimimimimimimimiwimimimim iimimimimicimiwimimimiwimiwirimimimiwimeimim mimimimiwimimimiwiimimiminiwimitimimimimiwimiminim"
          ],
          "name": "stdout"
        },
        {
          "output_type": "stream",
          "text": [
            "i mimimimiwimimimiwiwiwimiw m iwim iwiwiiwimimicimimimim iwimimimiwimim imir iwiwiiwimimiwimim wimimiwiwim miwimim iiimimiwimimimimimiwimim imimimiwicimimimimimimi\n",
            "----- diversity: 0.5\n",
            "----- Generating with seed: \"his mental power, to overcome metaphysic\"\n",
            "his mental power, to overcome metaphysicuimiimiwiw icitinim m r m nim rice\n",
            "wiw\n",
            " rhimiteimiwim raw iwirinisimiwiciticiticisime\n",
            "mi w ceume miw  weic r iinifite c misimeinic mim iniwimeimin tciminur tige m,ic m cec si mowiiwir meim me\n",
            "m ramiwiw miwim cimi\n",
            "i"
          ],
          "name": "stdout"
        },
        {
          "output_type": "stream",
          "text": [
            "mhice\n",
            "iwutiwawiwiain w  nmerh nirugiwum m witiwimhetiir meiriw mimiwimirimir iwiw chiiwim  tipuwim\n",
            "itiwinimim itinimciciwimiriwimeiwiw miwifiisaw \n",
            "imeseiwimeiwmiciseinim\n",
            "icim rin wiroaca\n",
            "----- diversity: 1.0\n",
            "----- Generating with seed: \"his mental power, to overcome metaphysic\"\n",
            "his mental power, to overcome metaphysicethhf\n",
            "rimiiewidireheime\n",
            "m het:hir weh.mhitaic) mip\n",
            "c\"hf\n",
            "uweyir puaeliwugrin\n",
            "wamimhiwimhaf iuui nip siecee\n",
            "ripucm m\n",
            "\n",
            "w   wt uc\n",
            " p\n",
            "en\n",
            "thif\n",
            "socise\n",
            "mhamisuwiime iicem\n",
            "i  mo mut,ipitiwuwi n \n",
            "m s iw\n",
            "urmi"
          ],
          "name": "stdout"
        },
        {
          "output_type": "stream",
          "text": [
            "fiemos y\n",
            "iutic yerinphuphaot wdurtimicunk cis ki shuf\n",
            "i fd l\n",
            "lsisim mi\n",
            "mcepeas\n",
            "aiaaupicih\n",
            "wit-hin\n",
            "\n",
            "rin\n",
            "un\n",
            "d dhditwuwipitimmhd  ninic yeioiviiawtttimroncteawiuwinlofe nsef\"iiiiwe uip r\n",
            "s  wevuctibshhhir n\n",
            "----- diversity: 1.2\n",
            "----- Generating with seed: \"his mental power, to overcome metaphysic\"\n",
            "his mental power, to overcome metaphysicigekmrthitewh k g:ewemheef\n",
            "fce\n",
            "wishhoth\n",
            ",iv\n",
            "in a\n",
            "ic s\n",
            "trri,inhh \n",
            "kiomh\n",
            "uabeh\n",
            "w iwoun it lh uw\"i\n",
            "c n abarlishsiiitifir c t\"h\n",
            " mufotk?ecosur e cucsahiwetiuri\n",
            "sishaclir\n",
            "tucsi m\n",
            "initapi mu"
          ],
          "name": "stdout"
        },
        {
          "output_type": "stream",
          "text": [
            "\"p\n",
            "\n",
            "aminame issceinhh p,md pimiab\n",
            "\n",
            "tevme:th\n",
            "\" emutieirew\n",
            " fnariotiw \"\n",
            "iwiithras\n",
            " wcu m,amhhicur d cid mdyhrcdeof-um snawciec  riw,icefh euunrn,lmef soliwu\n",
            "tsec,iatip,y rw mogigt \n",
            "wiriuityicy u miredh srtmmichfw\n",
            "iifrh\n",
            "Epoch 13/30\n",
            " 31232/200285 [===>..........................] - ETA: 4:51 - loss: 3.1252\b\b\b\b\b\b\b\b\b\b\b\b\b\b\b\b\b\b\b\b\b\b\b\b\b\b\b\b\b\b\b\b\b\b\b\b\b\b\b\b\b\b\b\b\b\b\b\b\b\b\b\b\b\b\b\b\b\b\b\b\b\b\b\b\b\b\b\b\b\b\b\b\b"
          ],
          "name": "stdout"
        },
        {
          "output_type": "stream",
          "text": [
            "200285/200285 [==============================] - 335s 2ms/step - loss: 3.1193\n"
          ],
          "name": "stdout"
        },
        {
          "output_type": "stream",
          "text": [
            "\n",
            "---Generating text after Epoch: 12\n",
            "----- diversity: 0.2\n",
            "----- Generating with seed: \"ot books written precisely to hide what \"\n",
            "ot books written precisely to hide what t t tet t t t t t t tes t t t t t f t s t t r  t t t s r  t t t t t t t t t tetet t t t t t t t t t t t t t t  t t t t t t fet t t t s t t t t t n t t  tet   t t r t t t t f t t t  t t t t -t s t t t t  t t tet t t  s t t t t t t t t t s tet t s t  t t tet  t t s t t t t t t t t t t t t t b t t t t t t t t t"
          ],
          "name": "stdout"
        },
        {
          "output_type": "stream",
          "text": [
            " t t t t t se t t t tef t t tet t t t t t t nt t t  s t   t t t t t t t t t t t t t t t t t\n",
            "----- diversity: 0.5\n",
            "----- Generating with seed: \"ot books written precisely to hide what \"\n",
            "ot books written precisely to hide what fer d r fyag  s-rh d dobh t r t b fetuif t t n t t r p d s t t  t  t refefeb  t b t  t t t f b teaf t  t t s r t bel l re s et tet tefhen f t m re t t tes  f s  ter b t senbeth tuf nt  t nf t d set tet  tut re ry t  p ns b nns f r  tetet t fith f t betet fhent th det"
          ],
          "name": "stdout"
        },
        {
          "output_type": "stream",
          "text": [
            "  r te f d t  t t k g dh t nb t t t rte f  s g f  t   t t c sef f aet t rt tet t wyet  f s n bentin tesefi-at reten s b sent s resab \n",
            "----- diversity: 1.0\n",
            "----- Generating with seed: \"ot books written precisely to hide what \"\n",
            "ot books written precisely to hide what t\n",
            "s \n",
            "r t,ke hek- usa tl gtuof-d f tuth\n",
            "l iteghe y ar stgpeb t  u -set t t ketiserefed  r, faitsk my-lf f,t t sh k tti abebib phe n  r dav-b t recotyefeg t.e p-te,resvre beap yhtegahyir sey\n",
            " t-egb g, fh b syk\"as  ns   fseh k datk feg t  "
          ],
          "name": "stdout"
        },
        {
          "output_type": "stream",
          "text": [
            "tsy t \n",
            "tet  c;ty  r ?  t iseuf efn l b egy k aw-geaf\n",
            " atd f peas tfla r-teulc s,e te , a unn?hisem f -se-dhobe?esenb tefaweunank lu s,eg, fh h  iya-be,r imh,sy gkas\n",
            "----- diversity: 1.2\n",
            "----- Generating with seed: \"ot books written precisely to hide what \"\n",
            "ot books written precisely to hide what nds-sexufe r\n",
            "petruc, v if  fh b,s.t   k-s r qyhrr  ltr ty b nikym acr if ,setens ov r r pyak aa-rsptyegodedhe ssatisokidep a? iv f   vej eyh shp ty ntedaori \n",
            "cy i c,ycg b-fcnar-anloen meri fti  tas rturb  gh \n",
            ",pel"
          ],
          "name": "stdout"
        },
        {
          "output_type": "stream",
          "text": [
            " ,efkl tept t d dtaf soft,heve--fh-ut sbue fhuufkp t  fet-g t ns f ulp ate.nrotatat,pa trbtt nolkltc nrete  mig? s  -bt\n",
            "t eckyth-phstt t,eheertrsegareguv kyyet haks k-ty?  feb r rghyemg- \n",
            "Epoch 14/30\n",
            " 37248/200285 [====>.........................] - ETA: 4:40 - loss: 3.1188"
          ],
          "name": "stdout"
        },
        {
          "output_type": "stream",
          "text": [
            "200285/200285 [==============================] - 336s 2ms/step - loss: 3.1197\n",
            "\n",
            "---Generating text after Epoch: 13\n",
            "----- diversity: 0.2\n",
            "----- Generating with seed: \"nce of false judgment and is equally a g\"\n",
            "nce of false judgment and is equally a g   n "
          ],
          "name": "stdout"
        },
        {
          "output_type": "stream",
          "text": [
            "n n ce   at an an nt nan nn an  t   n n  an n   anc  te  n n tea na nan n  n a c  n  nn n nanannt na nan a  n  at  n a nc n aa nan  an  n   nn anan n  n anananc  c  n t n  na  on  aa n   te   n  na an naaannanan a  n t a na t an  n nn nan n n n anan n n  anana an at   anan n   nt   n n  t n nn  a a nan n n nn     na  n  an a n aa t n  na  an  aa   anna  aan n n nn n anaa c  n  c  cean  t  g a\n",
            "----- diversity: 0.5\n",
            "----- Generating with seed: \"nce of false judgment and is equally a g\"\n",
            "nce of false judgment and is equally a ge  h  t   -c tho n ce n ceaoao g,en aba"
          ],
          "name": "stdout"
        },
        {
          "output_type": "stream",
          "text": [
            "   ncen  nnnn naanonce cet   me reach nn aen  as  eoacanen t aa  ann  ns oenar nin t son   t chan chi  nmanaa tec geonsh anan naanaato nc,aant cen   rat tos, mes   nos e naao  co nac t a ganat,ea  ansenon asoce aocete  n ta  g ntetec   asacan n  t  no ng a n  n a nasec oan s nat s tethe t   t   cena ates   thano    ce doann o todateac a n  onac con  a  ath s \n",
            "----- diversity: 1.0\n",
            "----- Generating with seed: \"nce of false judgment and is equally a g\"\n",
            "nce of false judgment and is equally a gh  acyeace,a,e \n",
            "tethse aaf anpedoeap nwanoto\n",
            "yyoasegream  thea\"n"
          ],
          "name": "stdout"
        },
        {
          "output_type": "stream",
          "text": [
            "ago  conthh  , r r ryehe s,s sed con deyenh nnet otag,hyidel yath taroge v,enmoaouny maago\n",
            "nociete sy seari\"hetoero se sd  ooac scoathsyacabencenafhong doam rih.y oananrsm maph,entc nnhe  uto s,  dh\n",
            "aet  s nnshora naoosen naaert s. vhc   yonvonceme m,y nyhedet oon w oteto,te seaoncec bh,la odhl,y bi de tege\n",
            "tadhaoan  d a nbonang tran \n",
            "----- diversity: 1.2\n",
            "----- Generating with seed: \"nce of false judgment and is equally a g\"\n",
            "nce of false judgment and is equally a gaat  , ghonootangig naai bahame t und  a u l ralestoearh nbeadlo, a c. noannag;sece "
          ],
          "name": "stdout"
        },
        {
          "output_type": "stream",
          "text": [
            "t e uas byeoetehailav oeoaahog sodo isinmec-nfebo inw yv m  nc,hencebt, thylh anehadicyhde,direaag ate tito ch tan r yt  sh bacas t s,haacyaeroavagyeon,elintto.-yoeanchy yes tucoaaad:ao,,iot es, ,  oca,h\n",
            "eg;\n",
            "nr n-rannphoceasehatouw od g  nc p ted othaaowod ,hy onm sonnnaaenabt nryeodemdec toe  nn nyhr etaporafifit \n",
            "Epoch 15/30\n",
            " 15488/200285 [=>............................] - ETA: 5:18 - loss: 3.1330"
          ],
          "name": "stdout"
        },
        {
          "output_type": "stream",
          "text": [
            "191232/200285 [===========================>..] - ETA: 14s - loss: 3.1179"
          ],
          "name": "stdout"
        },
        {
          "output_type": "stream",
          "text": [
            "200285/200285 [==============================] - 327s 2ms/step - loss: 3.1185\n",
            "\n",
            "---Generating text after Epoch: 14\n",
            "----- diversity: 0.2\n",
            "----- Generating with seed: \"but be that everything is prepared at th\"\n",
            "but be that everything is prepared at thes s ses ses s s s ses s s s seses s ses sy s s tes s s s s s ses s s ses s s s s s n s s s s s ses s s s s tes s s s t seseses s tes s s s tes ls s s ses s s s s t sesesesesesis t s t tes s s s ses s s s s s s s teses t s s ses s s s ses t s t s s s s "
          ],
          "name": "stdout"
        },
        {
          "output_type": "stream",
          "text": [
            "s s s s s s s s s s ses s s tes s s ses des t s s ses s sos ns s s s tes s s teses s s s s s s s ses s s s ses t s ses s s s s s tet s s s s s s s \n",
            "----- diversity: 0.5\n",
            "----- Generating with seed: \"but be that everything is prepared at th\"\n",
            "but be that everything is prepared at the teiss peses t  sesety nsi tet t s  setlis s ger ss mesy soses s sos  s sesonsytepe s stitensus m tese syy p r de sestyent tens s mellye ns ges ses siimy g tesdesly tetyensensleot tes  s tondosesserest  c t ll nt s tyes nsets"
          ],
          "name": "stdout"
        },
        {
          "output_type": "stream",
          "text": [
            " t ses ld t, s  s sises st s  t dim is t se dyeg ss nfet teosyl ter d d t s s s nsilnses nll t   sis teminns s ss setet teses setes y t s t  med m tes nss ssos s t s nsyessi \n",
            "----- diversity: 1.0\n",
            "----- Generating with seed: \"but be that everything is prepared at th\"\n",
            "but be that everything is prepared at thdudyaix rtfy\n",
            "dht tiseselsolex ser-sy f\n",
            "oys-sidedlpenge secesyogos d-nci fh -c tenn hulsym seged s t spy ,y sois xsunnboxlse sy so-l.sety- r wdy san xs sy \n",
            "te l csos tiatel lim,essegmels ty syoy mey   himin"
          ],
          "name": "stdout"
        },
        {
          "output_type": "stream",
          "text": [
            "ityyet int pisyyeilteaall mes mc tlils  sietiei lsd nnclptetyy sid\"imigensf slag mie ssigic nsotet e st -sses ldhofeeslid vee nmkycesls l s rhasis s iesll ut mopag gecito-texligyy thyegcomy  d l \n",
            "----- diversity: 1.2\n",
            "----- Generating with seed: \"but be that everything is prepared at th\"\n",
            "but be that everything is prepared at th,d,y ryhoott- oshyy d w rltg ng myyem nnrph,dnius;ed tecer g;milrallirtts sohadegesent  laefs isody ssostinxs c-y , agmiisfs vlleldinott m p-oy;el w p ngesd f bs   snse-xt t fithyyooituxboma"
          ],
          "name": "stdout"
        },
        {
          "output_type": "stream",
          "text": [
            "ssei c\n",
            "nsstet s tyhdehtlt esnl-t ldt, lasts ntet  l r,ilmss b s see-elc\n",
            "s s drept agtdnseur sodoli-p, dhfatsledeasis fs yl xxiseschinc \n",
            "odacomm slph yesd syeg etgenostye xgit sy fy n-t ,of s ssesomr  d ctesen d\n",
            "Epoch 16/30\n",
            " 32000/200285 [===>..........................] - ETA: 4:25 - loss: 3.1251"
          ],
          "name": "stdout"
        },
        {
          "output_type": "stream",
          "text": [
            "200285/200285 [==============================] - 328s 2ms/step - loss: 3.1200\n"
          ],
          "name": "stdout"
        },
        {
          "output_type": "stream",
          "text": [
            "\n",
            "---Generating text after Epoch: 15\n",
            "----- diversity: 0.2\n",
            "----- Generating with seed: \"et with the utmost\n",
            "simplicity when he sa\"\n",
            "et with the utmost\n",
            "simplicity when he sanng nnnnng ns nnnat g ng nnnnnannnnngag nng ng nnngang ng g nnnng g g ng nnnnsannnseng nnnt g n g nnnnt ntanns nnnnng tang ng nnng g ng ng nng ns gannng ngeg nnnsug nnt g g ngetunnnnns g ngeg g tuannnang gasunnnnnannnnannng nnng ng nnnnnnsung nnang nsug ng ng ng ng gunnnnnnnnng s g ng gangang nnnnnnng s g nn"
          ],
          "name": "stdout"
        },
        {
          "output_type": "stream",
          "text": [
            "nl ng ng nnnnnngasannns nng ng nnannnnnannnannnnngang nng ns nnnngunnns nnng nnnnnng nng nn\n",
            "----- diversity: 0.5\n",
            "----- Generating with seed: \"et with the utmost\n",
            "simplicity when he sa\"\n",
            "et with the utmost\n",
            "simplicity when he sanc uc nt gyunlugus nasaennngyun ng bus g g-ay nnghag ns ann g s,ushyeal gesosuusanngugund yeung nc sab n g ns gug.ang,emunteng ng nnns-atyen ng nt nt sreaunns ongsarag nn nunnnc anns s geaang gh nnngt r nl rannnnng gunat sus ng tung nunt tannnnt ge anug ge-g fh cungh"
          ],
          "name": "stdout"
        },
        {
          "output_type": "stream",
          "text": [
            "anusanug s nceganngus s nss nseag gsonth nas-nnntyans-nns nat nngaunasag nb nnb naannns s besesum, nupann an mur nasas nt nns ns gasu\n",
            "----- diversity: 1.0\n",
            "----- Generating with seed: \"et with the utmost\n",
            "simplicity when he sa\"\n",
            "et with the utmost\n",
            "simplicity when he saveacuthrg n nas xg-yugatccoreghhugs gl cyag anng auntes n berrob v nrh nas tonteyheguotoces-aoanacintanr-ofawegen, nre-tit as cund uuogutowennpugunpag ngh ot sangtn eti busunrsabioialgunthud, gtupgan ntossetoo\"sto \n",
            "f gshenseouch caas og"
          ],
          "name": "stdout"
        },
        {
          "output_type": "stream",
          "text": [
            "intighuutsenoucuas auuaguunrog tonght aatonrh cenuvaoun f ng ryy nnagsyegonpodanr  bat,inutyas a-,-gsy guubul,s getel g,cpoc usia hautc bs,-satinaagsunnsntontyewonn\n",
            "----- diversity: 1.2\n",
            "----- Generating with seed: \"et with the utmost\n",
            "simplicity when he sa\"\n",
            "et with the utmost\n",
            "simplicity when he sa-xy-exouvonbaavet pnbagg-gyeguabe\"xpect enxp dh-b metsa bigug-aabun-csaponsucc,eanangrbkag\n",
            "ngasg-nanv nsscleafegretudhas usepagunc ghud,-sh  n.lug tauc-sgssucsagetennfusahqeralags gs stp\n",
            "rylanc sofe-atabunstn sen-"
          ],
          "name": "stdout"
        },
        {
          "output_type": "stream",
          "text": [
            "gsa lo,gapaangd nsaunuo-canr-b soun:lirlscsgiet. aiteftot\"-rhabeum nusauroophy- n,cebishasuse  catug t ltougabtofbagyhecypug noaceabunmehys,-itat,s ususannnn,-tsyau-ngugteo-ntu:anmelearot\n",
            "Epoch 17/30\n",
            " 37248/200285 [====>.........................] - ETA: 4:29 - loss: 3.1078"
          ],
          "name": "stdout"
        },
        {
          "output_type": "stream",
          "text": [
            "200285/200285 [==============================] - 335s 2ms/step - loss: 3.1176\n",
            "\n",
            "---Generating text after Epoch: 16\n",
            "----- diversity: 0.2\n",
            "----- Generating with seed: \"gs may not be lost on\n",
            "his surface and fi\"\n",
            "gs may not be lost on\n",
            "his surface and fin nnn nnnnn"
          ],
          "name": "stdout"
        },
        {
          "output_type": "stream",
          "text": [
            "n n n nn nnnnnnnnnn nnr n nnnnnn  nnn nr  np  p nd nn n s nnnnnnn nn n nnn n nnn nnn n nnr nnn n nn   nnnnn nn n n nn nnnnns  nnnn nnr nnnn n nn  n nnnn  n nnn n n n  n n nnnn nnn nnr nn n nnnnnnnnnp  nnn n n n n nn nnn  n nn nn nn nn nnnnn nnnnnnnnnn nnnn nnnnnn  n n nnnnnn nnnn nnn nn nnnnnnnnnnnn nnnnnnnn nnnnnnnn nnnn n nnnnnnnnnnnnn n nn nn n nnnnnnnn n n nnnn  nnnn  nn n nn nnnnnn\n",
            "----- diversity: 0.5\n",
            "----- Generating with seed: \"gs may not be lost on\n",
            "his surface and fi\"\n",
            "gs may not be lost on\n",
            "his surface and finannp nnn  n nm nn n nm  nn m o ns  nr nnn "
          ],
          "name": "stdout"
        },
        {
          "output_type": "stream",
          "text": [
            "pus   nnoleus m s m   onnd n  nnnnar nnns   f ap  b nn ns nnl sonpunn nap m   nrod nn  r u-n up nd nn rh   nnhh nr   nnr a  n n u  nno  nm nhor   ns ven n p n n nr s  a na nn s r l de n nd p np nn  n an ns  d nn  ap n u ar nm  npennna ns n pens a s nnennnnp nnnnuv nr n nun  e p nm n unsonun ion nd e n nr b r np nna n s n sh nnonsann nn r ro n ros  np, nn \n",
            "----- diversity: 1.0\n",
            "----- Generating with seed: \"gs may not be lost on\n",
            "his surface and fi\"\n",
            "gs may not be lost on\n",
            "his surface and fiso la lon usp d pind rap sou mend  v  ondpewhepo r am o sonnpt ,    "
          ],
          "name": "stdout"
        },
        {
          "output_type": "stream",
          "text": [
            " osn p  soan n, ta s npotitnan w n-mefa-u-um nvilsl  shhhipugir w nnngep ps-u pddh ncopp  vo opoaarodphn annl at bun n-qh s  ans\" rs,or m ns ph np nc ran sr   vunphpanfh nnam n orunnlpuu p np ,ebonca inn m psch u  dh n nnnaw -p pr usab nnmyaon-mor oed v lbeulol rp apil omenpap  s p p\"\n",
            "osaugens  kivsem  so o  oop saf nntu w s na u \n",
            "----- diversity: 1.2\n",
            "----- Generating with seed: \"gs may not be lost on\n",
            "his surface and fi\"\n",
            "gs may not be lost on\n",
            "his surface and fi yor g-apo h  m m,  p dauph r\"ap rpp  cuw c -prm nm vul n ncea-ui)aah caerannoiondos dh"
          ],
          "name": "stdout"
        },
        {
          "output_type": "stream",
          "text": [
            " rp nsioc us m,osenm oosi  uopl nonh t pg--lnmab dorp n  a nailrp awelh\n",
            " bum raenaser l r ors-detpahhilhic r odoc pusruuse ninadahkshro-u gauvoa t kl unem duv r n\"hare nnnmea mupp ri numucr. n\"ils a ne l uo var,elna-efhi\"n c upath  s noninud n -phrhy xorococrcfu\"v  onpfir \"oous od m f hopy u phe few n\"c  nn, \n",
            "oi\n",
            "Epoch 18/30\n",
            " 15488/200285 [=>............................] - ETA: 5:01 - loss: 3.1260"
          ],
          "name": "stdout"
        },
        {
          "output_type": "stream",
          "text": [
            "136320/200285 [===================>..........] - ETA: 1:43 - loss: 3.1202"
          ],
          "name": "stdout"
        }
      ]
    },
    {
      "metadata": {
        "id": "kv0Odofd_SNO",
        "colab_type": "code",
        "colab": {
          "autoexec": {
            "startup": false,
            "wait_interval": 0
          }
        }
      },
      "cell_type": "code",
      "source": [
        ""
      ],
      "execution_count": 0,
      "outputs": []
    }
  ]
}